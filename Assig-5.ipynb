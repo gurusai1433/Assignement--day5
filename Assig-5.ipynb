{
 "cells": [
  {
   "cell_type": "markdown",
   "metadata": {},
   "source": [
    "# Assignement-1"
   ]
  },
  {
   "cell_type": "code",
   "execution_count": 1,
   "metadata": {},
   "outputs": [
    {
     "name": "stdout",
     "output_type": "stream",
     "text": [
      "[1, 1, 1, 2, 2, 3, 4, 4, 10, 56, 56, 0, 0, 0, 0, 0]\n"
     ]
    }
   ],
   "source": [
    "l=[0,1,2,10,4,1,0,56,2,0,1,3,0,56,0,4]\n",
    "l.sort()\n",
    "num=l.count(0)\n",
    "for i in range(num):\n",
    "    l.append(0)\n",
    "del l[:num]\n",
    "print(l)"
   ]
  },
  {
   "cell_type": "markdown",
   "metadata": {},
   "source": [
    "# Assignement-2"
   ]
  },
  {
   "cell_type": "code",
   "execution_count": 2,
   "metadata": {},
   "outputs": [
    {
     "name": "stdout",
     "output_type": "stream",
     "text": [
      "[5, 10, 15, 20, 25, 35, 40, 45, 60, 60, 70, 80]\n"
     ]
    }
   ],
   "source": [
    "l1=[10,20,40,60,70,80]\n",
    "l2=[5,15,25,35,45,60]\n",
    "s=[]\n",
    "i,j=(0,0)\n",
    "n=len(l1)+len(l2)\n",
    "for k in range(n):\n",
    "    if(i<len(l1) and l1[i]<=l2[j]):\n",
    "        s.append(l1[i])\n",
    "        i=i+1\n",
    "    elif(l1[i]>=l2[j] and j<len(l2)):\n",
    "        s.append(l2[j])\n",
    "        j+=1\n",
    "        if(j==len(l2)):\n",
    "            l2.append(99)\n",
    "print(s)"
   ]
  },
  {
   "cell_type": "code",
   "execution_count": null,
   "metadata": {},
   "outputs": [],
   "source": []
  }
 ],
 "metadata": {
  "kernelspec": {
   "display_name": "Python 3",
   "language": "python",
   "name": "python3"
  },
  "language_info": {
   "codemirror_mode": {
    "name": "ipython",
    "version": 3
   },
   "file_extension": ".py",
   "mimetype": "text/x-python",
   "name": "python",
   "nbconvert_exporter": "python",
   "pygments_lexer": "ipython3",
   "version": "3.7.6"
  }
 },
 "nbformat": 4,
 "nbformat_minor": 4
}
